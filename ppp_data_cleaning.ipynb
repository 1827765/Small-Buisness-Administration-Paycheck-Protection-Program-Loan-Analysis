{
 "cells": [
  {
   "cell_type": "code",
   "execution_count": null,
   "id": "b7d1bdb7-36e3-4458-b999-98e16d6ce088",
   "metadata": {},
   "outputs": [],
   "source": [
    "import pandas as pd\n",
    "import numpy as np"
   ]
  },
  {
   "cell_type": "code",
   "execution_count": null,
   "id": "24128519-4d0e-4fba-b2b2-c2b23db107ec",
   "metadata": {
    "jupyter": {
     "source_hidden": true
    }
   },
   "outputs": [],
   "source": [
    "data = pd.read_csv(r'C:\\Users\\ASUS\\OneDrive\\Documents\\SBA\\processed files\\public_up_to_150k_12_230930.csv')"
   ]
  },
  {
   "cell_type": "code",
   "execution_count": null,
   "id": "a6cf6833-9431-4933-9829-de1870b98da3",
   "metadata": {},
   "outputs": [],
   "source": [
    "df = pd.read_excel(r'C:\\Users\\ASUS\\OneDrive\\Documents\\SBA\\naics\\Table of Size Standards_Effective March 17, 2023_.xlsx', sheet_name = 'table_of_size_standards-all')"
   ]
  },
  {
   "cell_type": "code",
   "execution_count": null,
   "id": "9917d15b-3947-4cad-b4eb-1db01449afe7",
   "metadata": {
    "scrolled": true
   },
   "outputs": [],
   "source": [
    "df"
   ]
  },
  {
   "cell_type": "code",
   "execution_count": null,
   "id": "94e8cda1-f933-4b16-aaa1-17e14d7b6fa8",
   "metadata": {
    "scrolled": true
   },
   "outputs": [],
   "source": [
    "df.info()"
   ]
  },
  {
   "cell_type": "code",
   "execution_count": null,
   "id": "ee2e53cc-04f5-4363-bbd9-01aef000c233",
   "metadata": {
    "scrolled": true
   },
   "outputs": [],
   "source": [
    "data.info()"
   ]
  },
  {
   "cell_type": "code",
   "execution_count": null,
   "id": "7a1b2988-c485-4bfa-8efc-e7cadeb54794",
   "metadata": {},
   "outputs": [],
   "source": [
    "#checking for nulls\n",
    "df.isnull().sum()"
   ]
  },
  {
   "cell_type": "code",
   "execution_count": null,
   "id": "cb820aa4-b0a1-4d96-9324-5783fcd27465",
   "metadata": {
    "scrolled": true
   },
   "outputs": [],
   "source": [
    "#checking for nulls\n",
    "data.isnull().sum()"
   ]
  },
  {
   "cell_type": "code",
   "execution_count": null,
   "id": "ececc661-3191-47df-aee8-d7132c75e047",
   "metadata": {},
   "outputs": [],
   "source": [
    "#selecting relevant columns and rows\n",
    "\n",
    "df = df[df['NAICS Codes'].isnull()]"
   ]
  },
  {
   "cell_type": "code",
   "execution_count": null,
   "id": "28091784-cdfc-4c32-b95b-3726c2165824",
   "metadata": {},
   "outputs": [],
   "source": [
    "df.head()"
   ]
  },
  {
   "cell_type": "code",
   "execution_count": null,
   "id": "0bb1e337-51fa-4543-9f9b-208a093b618e",
   "metadata": {},
   "outputs": [],
   "source": [
    "df['Codes'] = df['NAICS Industry Description'].str.slice(start = 7, stop = 9)"
   ]
  },
  {
   "cell_type": "code",
   "execution_count": null,
   "id": "11e03c4f-6265-44a3-85cf-4d831ec24e90",
   "metadata": {},
   "outputs": [],
   "source": [
    "df.head()"
   ]
  },
  {
   "cell_type": "code",
   "execution_count": null,
   "id": "91f1d067-f339-43f2-b929-3dec9a695cc9",
   "metadata": {},
   "outputs": [],
   "source": [
    "df['Sector'] = df['NAICS Industry Description'].str.slice(start = 12, stop = 538 )"
   ]
  },
  {
   "cell_type": "code",
   "execution_count": null,
   "id": "2945094a-1720-42f6-97a0-581b1d7ba65f",
   "metadata": {},
   "outputs": [],
   "source": [
    "df.head()"
   ]
  },
  {
   "cell_type": "code",
   "execution_count": null,
   "id": "6a44a730-4269-4617-b201-a66d683138c7",
   "metadata": {},
   "outputs": [],
   "source": [
    "df['NAICS Industry Description','Codes','Sector']"
   ]
  },
  {
   "cell_type": "code",
   "execution_count": null,
   "id": "4d7e67aa-cc4a-45d4-80ac-50f3b47027be",
   "metadata": {
    "scrolled": true
   },
   "outputs": [],
   "source": [
    "df = df[df['Codes'].str.isnumeric()]"
   ]
  },
  {
   "cell_type": "code",
   "execution_count": null,
   "id": "70b01415-cab0-4d6a-881e-e99078175f4b",
   "metadata": {
    "scrolled": true
   },
   "outputs": [],
   "source": [
    "df"
   ]
  },
  {
   "cell_type": "code",
   "execution_count": null,
   "id": "f2926fe2-8151-45ce-9fd4-b5da284996b7",
   "metadata": {},
   "outputs": [],
   "source": [
    "#cleaning values in secotr column\n",
    "\n",
    "df.loc[df['Sector'] == '49 – Transportation and Warehousing', 'Sector'] = 'Transportation and Warehousing'"
   ]
  },
  {
   "cell_type": "code",
   "execution_count": null,
   "id": "baab15d4-8fd3-4c45-8a47-a02b48c8966f",
   "metadata": {
    "scrolled": true
   },
   "outputs": [],
   "source": [
    "df"
   ]
  },
  {
   "cell_type": "code",
   "execution_count": null,
   "id": "8c5e6319-dc98-457d-8267-c8370f1ad868",
   "metadata": {},
   "outputs": [],
   "source": [
    "df['Sector'] = np.where(df['Sector'] == '45 – Retail Trade', 'Retail Trade', df['Sector'] )"
   ]
  },
  {
   "cell_type": "code",
   "execution_count": null,
   "id": "57e3a115-0949-4298-9bf1-dc7d836b5d1c",
   "metadata": {},
   "outputs": [],
   "source": [
    "df.loc [len(df.index)] = ['Sector 31 – 33 – Manufacturing', 32,'Manufacturing' ]\n",
    "df.loc [len(df.index)] = ['Sector 31 – 33 – Manufacturing', 33,'Manufacturing' ]\n",
    "df.loc [len(df.index)] = ['Sector 48 - 49 – Transportation and Warehousing', 49,'Transportation and Warehousing' ]\n",
    "\n",
    "\n",
    "\n",
    "\n"
   ]
  },
  {
   "cell_type": "code",
   "execution_count": null,
   "id": "ea86dae2-6d45-4995-978d-9210a7de20cc",
   "metadata": {
    "scrolled": true
   },
   "outputs": [],
   "source": [
    "df"
   ]
  },
  {
   "cell_type": "code",
   "execution_count": null,
   "id": "aa0f424f-5ea3-48f0-afda-d2cc27b9fb8f",
   "metadata": {},
   "outputs": [],
   "source": [
    "#renumbering the index\n",
    "df.index = np.arange(len(df))\n"
   ]
  },
  {
   "cell_type": "code",
   "execution_count": null,
   "id": "152cf267-b1e6-4849-aa6f-8b5a7c47e0b8",
   "metadata": {
    "scrolled": true
   },
   "outputs": [],
   "source": [
    "df"
   ]
  },
  {
   "cell_type": "code",
   "execution_count": null,
   "id": "4713159f-723d-44ca-8467-de393b7bd33a",
   "metadata": {},
   "outputs": [],
   "source": [
    "df.to_csv(\"clean_sba_codes_noindex\", index = False )"
   ]
  },
  {
   "cell_type": "code",
   "execution_count": null,
   "id": "2312994b-829b-4628-b88e-d9cb767a6462",
   "metadata": {},
   "outputs": [],
   "source": []
  },
  {
   "cell_type": "code",
   "execution_count": null,
   "id": "95587752-c5bc-4030-9f14-231b7a1f5b70",
   "metadata": {},
   "outputs": [],
   "source": []
  },
  {
   "cell_type": "code",
   "execution_count": null,
   "id": "f449db44-3e63-4555-a737-9acf5304bcfe",
   "metadata": {},
   "outputs": [],
   "source": []
  },
  {
   "cell_type": "code",
   "execution_count": null,
   "id": "e46ade33-07f2-4e44-a193-897490a815d6",
   "metadata": {},
   "outputs": [],
   "source": []
  },
  {
   "cell_type": "code",
   "execution_count": null,
   "id": "3e87867c-c35d-4801-b348-6753ba2be2c1",
   "metadata": {},
   "outputs": [],
   "source": []
  },
  {
   "cell_type": "code",
   "execution_count": null,
   "id": "d0133d71-1620-4b2c-b2d0-79d07af31ed1",
   "metadata": {},
   "outputs": [],
   "source": []
  },
  {
   "cell_type": "code",
   "execution_count": null,
   "id": "3a9471a5-83e7-47ad-b195-61bb4f012ede",
   "metadata": {},
   "outputs": [],
   "source": []
  },
  {
   "cell_type": "code",
   "execution_count": null,
   "id": "95815c1e-8f0e-401a-a66f-eb1cdb7a3cae",
   "metadata": {},
   "outputs": [],
   "source": []
  },
  {
   "cell_type": "code",
   "execution_count": null,
   "id": "ab86bd4e-b41e-4ac9-8085-451b19f0a1e8",
   "metadata": {},
   "outputs": [],
   "source": []
  },
  {
   "cell_type": "code",
   "execution_count": null,
   "id": "ce179414-fff0-41b0-8178-bc070db1c204",
   "metadata": {},
   "outputs": [],
   "source": []
  }
 ],
 "metadata": {
  "kernelspec": {
   "display_name": "Python 3 (ipykernel)",
   "language": "python",
   "name": "python3"
  },
  "language_info": {
   "codemirror_mode": {
    "name": "ipython",
    "version": 3
   },
   "file_extension": ".py",
   "mimetype": "text/x-python",
   "name": "python",
   "nbconvert_exporter": "python",
   "pygments_lexer": "ipython3",
   "version": "3.12.4"
  }
 },
 "nbformat": 4,
 "nbformat_minor": 5
}
